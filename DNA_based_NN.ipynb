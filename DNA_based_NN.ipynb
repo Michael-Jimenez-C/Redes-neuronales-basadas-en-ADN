{
  "nbformat": 4,
  "nbformat_minor": 0,
  "metadata": {
    "colab": {
      "private_outputs": true,
      "provenance": [],
      "gpuType": "T4",
      "authorship_tag": "ABX9TyO343motECqHPwiBfZlJ1xz",
      "include_colab_link": true
    },
    "kernelspec": {
      "name": "python3",
      "display_name": "Python 3"
    },
    "language_info": {
      "name": "python"
    },
    "accelerator": "GPU"
  },
  "cells": [
    {
      "cell_type": "markdown",
      "metadata": {
        "id": "view-in-github",
        "colab_type": "text"
      },
      "source": [
        "<a href=\"https://colab.research.google.com/github/Michael-Jimenez-C/Redes-neuronales-basadas-en-ADN/blob/main/DNA_based_NN.ipynb\" target=\"_parent\"><img src=\"https://colab.research.google.com/assets/colab-badge.svg\" alt=\"Open In Colab\"/></a>"
      ]
    },
    {
      "cell_type": "code",
      "source": [
        "encoding={\n",
        "      \"A\":\"0\",\n",
        "      \"T\":\"1\",\n",
        "      \"C\":\"2\",\n",
        "      \"G\":\"3\",\n",
        "      '0':\"A\",\n",
        "      '1':\"T\",\n",
        "      '2':\"C\",\n",
        "      '3':\"G\"\n",
        "  }\n",
        "\n",
        "complement = {\n",
        "    \"A\":\"T\",\n",
        "    \"T\":\"A\",\n",
        "    \"G\":\"C\",\n",
        "    \"C\":\"G\"\n",
        "}\n",
        "\n",
        "\n",
        "SIGN = {\n",
        "    \"A\":1,\n",
        "    \"T\":-1,\n",
        "    \"G\":1,\n",
        "    \"C\":-1,\n",
        "}\n",
        "\n",
        "TOKEN_WIDTH=20\n"
      ],
      "metadata": {
        "id": "aC5PRWD3bHsS"
      },
      "execution_count": null,
      "outputs": []
    },
    {
      "cell_type": "code",
      "source": [
        "def DNA_encoder(f):\n",
        "  def _f(num: float, signed = True):\n",
        "    sign = \"\"\n",
        "    if signed:\n",
        "      sign = 'A'\n",
        "      if num < 0:\n",
        "        sign = 'T'\n",
        "    tmp = f(abs(num))\n",
        "    return sign+\"\".join([encoding[i] if i!='.' else '.' for i in tmp])\n",
        "  return _f\n",
        "\n",
        "def DNA_decoder(f):\n",
        "  def _f(seq: str, signed = True):\n",
        "    sign = 1\n",
        "    if signed:\n",
        "      sign = SIGN[seq[0]]\n",
        "      seq = seq[1:]\n",
        "    tmp = \"\".join([encoding[i] if i!='.' else '.' for i in seq])\n",
        "    return sign*f(tmp)\n",
        "  return _f"
      ],
      "metadata": {
        "id": "S0VmwVV5m9rA"
      },
      "execution_count": null,
      "outputs": []
    },
    {
      "cell_type": "code",
      "source": [
        "def invert(seq: str):\n",
        "  return \"\".join([complement[i] if i!='.' else '.' for i in seq])"
      ],
      "metadata": {
        "id": "khmx3V1Q-TjC"
      },
      "execution_count": null,
      "outputs": []
    },
    {
      "cell_type": "code",
      "source": [
        "@DNA_encoder\n",
        "def float_to_base4(num :float):\n",
        "    integer_part = int(num)\n",
        "    fractional_part = num - integer_part\n",
        "\n",
        "    base4_integer = \"\"\n",
        "    if integer_part == 0:\n",
        "        base4_integer = \"0\"\n",
        "    else:\n",
        "        while integer_part > 0:\n",
        "            base4_integer = str(integer_part % 4) + base4_integer\n",
        "            integer_part //= 4\n",
        "\n",
        "    base4_fractional = \"\"\n",
        "    while fractional_part > 0 and len(base4_fractional) < TOKEN_WIDTH:\n",
        "        fractional_part *= 4\n",
        "        digit = int(fractional_part)\n",
        "        base4_fractional += str(digit)\n",
        "        fractional_part -= digit\n",
        "    return base4_integer.rjust(TOKEN_WIDTH,'0') + \".\" + (base4_fractional if base4_fractional else \"\").ljust(TOKEN_WIDTH,'0')\n",
        "\n",
        "@DNA_decoder\n",
        "def base4_to_float(base4):\n",
        "    if \".\" in base4:\n",
        "        integer_part, fractional_part = base4.split(\".\")\n",
        "    else:\n",
        "        integer_part, fractional_part = base4, \"\"\n",
        "\n",
        "    base10_integer = 0\n",
        "    for i, digit in enumerate(reversed(integer_part)):\n",
        "        base10_integer += int(digit) * (4 ** i)\n",
        "\n",
        "    base10_fractional = 0\n",
        "    for i, digit in enumerate(fractional_part):\n",
        "        base10_fractional += int(digit) * (4 ** -(i + 1))\n",
        "\n",
        "    return base10_integer + base10_fractional\n",
        "\n",
        "number = -123.0\n",
        "result = float_to_base4(number)\n",
        "print(result)\n",
        "result1 = base4_to_float(result)\n",
        "print(result1)\n",
        "result1 = base4_to_float(invert(result))\n",
        "print(result1)\n",
        "\n"
      ],
      "metadata": {
        "id": "9-pmEExzlgzc"
      },
      "execution_count": null,
      "outputs": []
    },
    {
      "cell_type": "markdown",
      "source": [
        "#Red ADN"
      ],
      "metadata": {
        "id": "7UUe_AAfvEhc"
      }
    },
    {
      "cell_type": "code",
      "source": [
        "import tensorflow as tf\n",
        "from tensorflow.keras import Sequential\n",
        "from tensorflow.keras.layers import Dense\n",
        "import numpy as np\n",
        "\n",
        "model = Sequential([\n",
        "    Dense(4, input_dim=5, activation='linear', use_bias=True),\n",
        "    Dense(7, activation='linear', use_bias=True),\n",
        "    Dense(1, activation='linear', use_bias=True)\n",
        "    ])\n",
        "\n",
        "# Compilar el modelo (requerido en Keras)\n",
        "model.compile(optimizer='sgd', loss='mean_squared_error')\n",
        "\n",
        "# Ver los pesos iniciales del modelo\n",
        "initial_weights = model.get_weights()\n",
        "print(\"Pesos iniciales:\")\n",
        "print(f\"Pesos: {initial_weights}\")  # Pesos de las conexiones\n",
        "\n",
        "# Definir nuevos pesos y sesgos\n",
        "new_weights = initial_weights.copy()\n",
        "# Reemplazar los pesos y el sesgo del modelo\n",
        "model.set_weights(new_weights)\n",
        "\n",
        "# Verificar que los pesos fueron actualizados\n",
        "updated_weights = model.get_weights()\n",
        "print(\"\\nPesos actualizados:\")\n",
        "print(f\"Pesos: {updated_weights}\")"
      ],
      "metadata": {
        "id": "oG_Oq4M5xlWE"
      },
      "execution_count": null,
      "outputs": []
    },
    {
      "cell_type": "code",
      "source": [
        "for i in range(0,len(initial_weights),2):\n",
        "  print(initial_weights[i],initial_weights[i+1],end='\\n\\n')"
      ],
      "metadata": {
        "id": "X-NbaYgnyNP3"
      },
      "execution_count": null,
      "outputs": []
    },
    {
      "cell_type": "code",
      "source": [
        "def recursiveEncoder(weights):\n",
        "  if not (isinstance(weights, list) or isinstance(weights, np.ndarray)):\n",
        "    return float_to_base4(weights)\n",
        "  out = []\n",
        "  for i in weights:\n",
        "    out.append(recursiveEncoder(i))\n",
        "  return out\n",
        "\n",
        "\n",
        "def recursiveDecoder(weights):\n",
        "  if not (isinstance(weights, list) or isinstance(weights, np.ndarray)):\n",
        "    return base4_to_float(weights)\n",
        "  out = []\n",
        "  for i in weights:\n",
        "    out.append(recursiveDecoder(i))\n",
        "  try:\n",
        "    return np.array(out)\n",
        "  except:\n",
        "    return out\n",
        "\n",
        "print(\n",
        "    recursiveEncoder(33123.543534),\n",
        "    tmp:=recursiveEncoder(initial_weights),\n",
        "    recursiveDecoder(tmp),\n",
        "    sep = '\\n\\n'\n",
        ")"
      ],
      "metadata": {
        "id": "wJwR1xgVADyp"
      },
      "execution_count": null,
      "outputs": []
    },
    {
      "cell_type": "code",
      "source": [
        "model.set_weights(recursiveDecoder(tmp))"
      ],
      "metadata": {
        "id": "NGBlynE_IO-F"
      },
      "execution_count": null,
      "outputs": []
    },
    {
      "cell_type": "markdown",
      "source": [
        "## Algoritmo genético"
      ],
      "metadata": {
        "id": "kTy46ICpkIhO"
      }
    },
    {
      "cell_type": "markdown",
      "source": [
        "### preparación de los datos"
      ],
      "metadata": {
        "id": "-qL3TPZ2oeV8"
      }
    },
    {
      "cell_type": "code",
      "source": [
        "import seaborn as sns\n",
        "import pandas as pd\n",
        "data = sns.load_dataset('iris')\n",
        "X = data[['sepal_length', 'sepal_width', 'petal_length','petal_width']]\n",
        "Y = pd.get_dummies(data['species'])"
      ],
      "metadata": {
        "id": "HuOdY2kLodSd"
      },
      "execution_count": null,
      "outputs": []
    },
    {
      "cell_type": "code",
      "source": [
        "import tensorflow as tf\n",
        "from tensorflow.keras import Sequential\n",
        "from tensorflow.keras.layers import Dense\n",
        "from tensorflow.keras.callbacks import EarlyStopping, TerminateOnNaN\n",
        "from tensorflow import keras"
      ],
      "metadata": {
        "id": "ArpOcTGDq9_e"
      },
      "execution_count": null,
      "outputs": []
    },
    {
      "cell_type": "code",
      "source": [
        "layers = [\n",
        "    Dense(4, activation='relu', use_bias=True),\n",
        "    Dense(30, activation='sigmoid', use_bias=True),\n",
        "    Dense(70, activation='sigmoid', use_bias=True),\n",
        "    Dense(70, activation='sigmoid', use_bias=True),\n",
        "    Dense(3, activation='softmax')\n",
        "    ]"
      ],
      "metadata": {
        "id": "o0BfcFm3kIWO"
      },
      "execution_count": null,
      "outputs": []
    },
    {
      "cell_type": "code",
      "source": [
        "initial_sols = 5\n",
        "\n",
        "sols = []\n",
        "error = []\n",
        "\n",
        "limit = 5\n",
        "epoch = 10\n",
        "\n",
        "# probabilidad de invertirse\n",
        "Pi=.2\n",
        "# Probabilidad de mutar\n",
        "pm=.5\n",
        "# Probabilidad de cruce\n",
        "pc=.3"
      ],
      "metadata": {
        "id": "jQnL4PJ14PDC"
      },
      "execution_count": null,
      "outputs": []
    },
    {
      "cell_type": "code",
      "source": [
        "for i in range(initial_sols):\n",
        "  print(\"Prueba\")\n",
        "  model = Sequential(layers)\n",
        "  model.compile(optimizer='adam', loss='categorical_crossentropy',metrics=['accuracy'])\n",
        "\n",
        "  hist = model.fit(X,\n",
        "      Y,\n",
        "      batch_size=96,\n",
        "      epochs=2000,\n",
        "      validation_split=.3,\n",
        "      callbacks=[\n",
        "      EarlyStopping(monitor=\"val_loss\",restore_best_weights=True),\n",
        "      TerminateOnNaN()\n",
        "  ])\n",
        "\n",
        "  tmp = model.get_weights()\n",
        "\n",
        "  v_loss = hist.history['val_loss'][-1]\n",
        "\n",
        "  sols.append(recursiveEncoder(tmp))\n"
      ],
      "metadata": {
        "id": "5bBjQ6cQphpk"
      },
      "execution_count": null,
      "outputs": []
    },
    {
      "cell_type": "code",
      "source": [
        "def marca(msg):\n",
        "  def _decorator(f):\n",
        "    def _function_wrapper(x):\n",
        "      print(\"inicio\",msg)\n",
        "      return f(x)\n",
        "    return _function_wrapper\n",
        "    print(\"final\",msg)\n",
        "  return _decorator"
      ],
      "metadata": {
        "id": "U-WudwQQLsOA"
      },
      "execution_count": null,
      "outputs": []
    },
    {
      "cell_type": "code",
      "source": [
        "@marca('evaluación')\n",
        "def evaluar(soluciones):\n",
        "  sols = []\n",
        "  for i in soluciones:\n",
        "    model = Sequential(layers)\n",
        "    model.compile(optimizer='adam', loss='categorical_crossentropy',metrics=['accuracy'])\n",
        "    model.set_weights(recursiveDecoder(i))\n",
        "    hist = model.fit(X,\n",
        "      Y,\n",
        "      batch_size=96,\n",
        "      epochs=2000,\n",
        "      validation_split=.3,\n",
        "      callbacks=[\n",
        "      EarlyStopping(monitor=\"val_loss\",restore_best_weights=True),\n",
        "      TerminateOnNaN()\n",
        "    ])\n",
        "    sols.append([recursiveEncoder(model.get_weights()), hist.history['val_loss'][-1]])\n",
        "  return sols"
      ],
      "metadata": {
        "id": "cwmX8oLA_gPc"
      },
      "execution_count": null,
      "outputs": []
    },
    {
      "cell_type": "code",
      "source": [
        "import random\n",
        "\n",
        "def cruzar(sol1,sol2):\n",
        "  ind = random.sample(range(len(sol2)), random.randint(1,len(sol2)))\n",
        "  for i in ind:\n",
        "    d = np.random.randint(1, len(sol1[i]))\n",
        "    v1 = sol1[i][:d]+sol2[i][d:]\n",
        "    v2 = sol2[i][:d]+sol1[i][d:]\n",
        "\n",
        "    sol1[i] = v1\n",
        "    sol2[i] = v2\n",
        "  return [sol1,sol2]\n",
        "\n",
        "\n",
        "@marca(\"cruzar\")\n",
        "def cruzarSols(soluciones):\n",
        "  sl = soluciones.copy()\n",
        "  for i in soluciones:\n",
        "    if random.random()<pc:\n",
        "      for j in soluciones:\n",
        "        if j!=i:\n",
        "          sl.extend(cruzar(i.copy(),j.copy()))\n",
        "  return sl\n"
      ],
      "metadata": {
        "id": "Q8pTKEvJ5Wwy"
      },
      "execution_count": null,
      "outputs": []
    },
    {
      "cell_type": "code",
      "source": [
        "def mutar(sol):\n",
        "  if isinstance(sol,str):\n",
        "    tmp = list(sol)\n",
        "    for i in random.sample(range(len(sol)), random.randint(1,len(sol))):\n",
        "      tmp[i] = complement[tmp[i]] if tmp[i]!='.' else '.'\n",
        "    return \"\".join(tmp)\n",
        "\n",
        "  ind = random.sample(range(len(sol)), random.randint(1,len(sol)))\n",
        "  for i in ind:\n",
        "    sol[i] = mutar(sol[i])\n",
        "  return sol\n",
        "\n",
        "@marca(\"mutación\")\n",
        "def mutarSols(soluciones):\n",
        "  sl = soluciones.copy()\n",
        "  for i in soluciones:\n",
        "    if random.random() < pm:\n",
        "      sl.append(mutar(i.copy()))\n",
        "  return sl"
      ],
      "metadata": {
        "id": "lNyArWQMIDFZ"
      },
      "execution_count": null,
      "outputs": []
    },
    {
      "cell_type": "code",
      "source": [
        "for i in range(epoch):\n",
        "  print('Entrenando',i)\n",
        "  sols = cruzarSols(sols)\n",
        "  sols = mutarSols(sols)\n",
        "  temp = evaluar(sols)\n",
        "  temp = sorted(temp, key=lambda x: x[1])[:5]\n",
        "  sols = [i[0] for i in temp]"
      ],
      "metadata": {
        "id": "6Th0umOi3f-1",
        "collapsed": true
      },
      "execution_count": null,
      "outputs": []
    },
    {
      "cell_type": "code",
      "source": [
        "#Restaurando pesos\n",
        "model = Sequential(layers)\n",
        "model.compile(optimizer='adam', loss='categorical_crossentropy',metrics=['accuracy'])\n",
        "model.set_weights(recursiveDecoder(temp[0][0]))\n",
        "print(temp[0][1])"
      ],
      "metadata": {
        "id": "LxrwxvBpHAUo"
      },
      "execution_count": null,
      "outputs": []
    },
    {
      "cell_type": "code",
      "source": [
        "np.argmax(model.predict(X),axis=1)"
      ],
      "metadata": {
        "id": "Aug2exmbzjfV"
      },
      "execution_count": null,
      "outputs": []
    }
  ]
}