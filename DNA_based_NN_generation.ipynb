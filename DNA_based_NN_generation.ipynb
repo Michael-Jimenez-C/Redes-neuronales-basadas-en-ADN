{
  "nbformat": 4,
  "nbformat_minor": 0,
  "metadata": {
    "colab": {
      "private_outputs": true,
      "provenance": [],
      "gpuType": "T4",
      "authorship_tag": "ABX9TyNc0HInYUJnV/EQkPhOQm1A",
      "include_colab_link": true
    },
    "kernelspec": {
      "name": "python3",
      "display_name": "Python 3"
    },
    "language_info": {
      "name": "python"
    },
    "accelerator": "GPU"
  },
  "cells": [
    {
      "cell_type": "markdown",
      "metadata": {
        "id": "view-in-github",
        "colab_type": "text"
      },
      "source": [
        "<a href=\"https://colab.research.google.com/github/Michael-Jimenez-C/Redes-neuronales-basadas-en-ADN/blob/main/DNA_based_NN_generation.ipynb\" target=\"_parent\"><img src=\"https://colab.research.google.com/assets/colab-badge.svg\" alt=\"Open In Colab\"/></a>"
      ]
    },
    {
      "cell_type": "markdown",
      "source": [
        "## DNA-NNArquitecture"
      ],
      "metadata": {
        "id": "RwNQO_PRRCx-"
      }
    },
    {
      "cell_type": "code",
      "source": [
        "import tensorflow as tf\n",
        "from tensorflow.keras import Sequential\n",
        "from tensorflow.keras.layers import Dense\n",
        "from tensorflow.keras.callbacks import EarlyStopping, TerminateOnNaN\n",
        "from tensorflow import keras\n",
        "import numpy as np"
      ],
      "metadata": {
        "id": "TgCVxZa_QzSs"
      },
      "execution_count": null,
      "outputs": []
    },
    {
      "cell_type": "code",
      "source": [
        "\n",
        "import seaborn as sns\n",
        "import pandas as pd\n",
        "from sklearn.model_selection import train_test_split\n",
        "data = sns.load_dataset('iris')\n",
        "X = data[['sepal_length', 'sepal_width', 'petal_length','petal_width']]\n",
        "Y = pd.get_dummies(data['species'])\n",
        "\n",
        "X_train, X_test, y_train, y_test = train_test_split(X, Y, test_size=0.33, random_state=42)"
      ],
      "metadata": {
        "id": "jjthuWDMSAXC"
      },
      "execution_count": null,
      "outputs": []
    },
    {
      "cell_type": "code",
      "source": [
        "encoding={\n",
        "      \"A\":\"0\",\n",
        "      \"T\":\"1\",\n",
        "      \"C\":\"2\",\n",
        "      \"G\":\"3\",\n",
        "      '0':\"A\",\n",
        "      '1':\"T\",\n",
        "      '2':\"C\",\n",
        "      '3':\"G\"\n",
        "  }\n",
        "\n",
        "complement = {\n",
        "    \"A\":\"T\",\n",
        "    \"T\":\"A\",\n",
        "    \"G\":\"C\",\n",
        "    \"C\":\"G\"\n",
        "}\n",
        "\n",
        "\n",
        "SIGN = {\n",
        "    \"A\":1,\n",
        "    \"T\":-1,\n",
        "    \"G\":1,\n",
        "    \"C\":-1,\n",
        "}\n",
        "\n",
        "FACT = {\n",
        "    0:\"linear\",\n",
        "    1:\"relu\",\n",
        "    2:\"sigmoid\",\n",
        "    3:\"relu\",\n",
        "    4:\"tanh\",\n",
        "    \"linear\":0,\n",
        "    \"relu\":1,\n",
        "    \"sigmoid\":2,\n",
        "    \"relu\":3,\n",
        "    \"tanh\":4\n",
        "}\n",
        "\n",
        "TOKEN_WIDTH=5\n",
        "\n",
        "pm = .5\n",
        "pc = .3\n",
        "\n",
        "n_in=4\n",
        "n_out=3\n",
        "\n",
        "\n",
        "config = {\n",
        "    'optimizer':'adam',\n",
        "    'loss':'categorical_crossentropy',\n",
        "    'metrics':['accuracy']\n",
        "}"
      ],
      "metadata": {
        "id": "ZXMWzXufUW1D"
      },
      "execution_count": null,
      "outputs": []
    },
    {
      "cell_type": "code",
      "source": [],
      "metadata": {
        "id": "tPm_jXbHaEOt"
      },
      "execution_count": null,
      "outputs": []
    },
    {
      "cell_type": "code",
      "source": [
        "def DNA_encoder(f):\n",
        "  def _f(num: float, signed = True):\n",
        "    sign = \"\"\n",
        "    if signed:\n",
        "      sign = 'A'\n",
        "      if num < 0:\n",
        "        sign = 'T'\n",
        "    tmp = f(abs(num))\n",
        "    return sign+\"\".join([encoding[i] if i!='.' else '.' for i in tmp])\n",
        "  return _f\n",
        "\n",
        "def DNA_decoder(f):\n",
        "  def _f(seq: str, signed = True):\n",
        "    sign = 1\n",
        "    if signed:\n",
        "      sign = SIGN[seq[0]]\n",
        "      seq = seq[1:]\n",
        "    tmp = \"\".join([encoding[i] if i!='.' else '.' for i in seq])\n",
        "    return sign*f(tmp)\n",
        "  return _f"
      ],
      "metadata": {
        "id": "k4bn8rBfUbiW"
      },
      "execution_count": null,
      "outputs": []
    },
    {
      "cell_type": "code",
      "source": [
        "@DNA_encoder\n",
        "def float_to_base4(num :float):\n",
        "    integer_part = int(num)\n",
        "    fractional_part = num - integer_part\n",
        "\n",
        "    base4_integer = \"\"\n",
        "    if integer_part == 0:\n",
        "        base4_integer = \"0\"\n",
        "    else:\n",
        "        while integer_part > 0:\n",
        "            base4_integer = str(integer_part % 4) + base4_integer\n",
        "            integer_part //= 4\n",
        "\n",
        "    base4_fractional = \"\"\n",
        "    while fractional_part > 0 and len(base4_fractional) < TOKEN_WIDTH:\n",
        "        fractional_part *= 4\n",
        "        digit = int(fractional_part)\n",
        "        base4_fractional += str(digit)\n",
        "        fractional_part -= digit\n",
        "    return base4_integer.rjust(TOKEN_WIDTH,'0') + \".\" + (base4_fractional if base4_fractional else \"\").ljust(TOKEN_WIDTH,'0')\n",
        "\n",
        "@DNA_decoder\n",
        "def base4_to_float(base4):\n",
        "    if \".\" in base4:\n",
        "        integer_part, fractional_part = base4.split(\".\")\n",
        "    else:\n",
        "        integer_part, fractional_part = base4, \"\"\n",
        "\n",
        "    base10_integer = 0\n",
        "    for i, digit in enumerate(reversed(integer_part)):\n",
        "        base10_integer += int(digit) * (4 ** i)\n",
        "\n",
        "    base10_fractional = 0\n",
        "    for i, digit in enumerate(fractional_part):\n",
        "        base10_fractional += int(digit) * (4 ** -(i + 1))\n",
        "\n",
        "    return base10_integer + base10_fractional"
      ],
      "metadata": {
        "id": "8WLRjPg_Uhdz"
      },
      "execution_count": null,
      "outputs": []
    },
    {
      "cell_type": "code",
      "source": [
        "TOKENLENGHT = TOKEN_WIDTH\n",
        "FRAMELENGHT = 2*TOKENLENGHT\n",
        "\n",
        "class Frame:\n",
        "  def __init__(self, nn: int,function: str):\n",
        "    self.nn: int = float_to_base4(nn,signed=False).split('.')[0]\n",
        "    self.function: int = float_to_base4(FACT[function] % 5,signed=False).split('.')[0]\n",
        "\n",
        "  def get(self)->str:\n",
        "    return self.nn+self.function\n",
        "\n",
        "  @staticmethod\n",
        "  def from_frame(frame: str)->tuple:\n",
        "    assert len(frame) == FRAMELENGHT, \"Expected frame lenght%i, given %i\"%(FRAMELENGHT, len(frame))\n",
        "    nn = base4_to_float(frame[:TOKENLENGHT],signed=False)\n",
        "    function = base4_to_float(frame[TOKENLENGHT+1:],signed=False) % 5\n",
        "    return nn,function\n",
        "\n",
        "  def __repr__(self):\n",
        "    return self.get()\n",
        "\n",
        "\n",
        "class DNANN:\n",
        "  def __init__(self, topology, functions):\n",
        "    assert len(topology)==len(functions), \"Activation function and topology must have same dimensions %i %i\"%(len(topology),len(functions))\n",
        "    self.frames = []\n",
        "    for T,F in zip(topology, functions):\n",
        "      self.frames.append(Frame(T,F))\n",
        "  @staticmethod\n",
        "  def from_frames(frames: str) -> None:\n",
        "    assert len(frames) % FRAMELENGHT == 0, \"FRAMES must be divisible by %i\"%FRAMELENGHT\n",
        "    frames_ = [frames[i:i+FRAMELENGHT] for i in range(len(frames)//FRAMELENGHT)]\n",
        "    return frames_\n",
        "\n",
        "  def get(self):\n",
        "    return \"\".join([i.get() for i in self.frames])\n",
        "\n",
        "  def __repr__(self):\n",
        "    return self.get()"
      ],
      "metadata": {
        "id": "O_VwD8MURHqm"
      },
      "execution_count": null,
      "outputs": []
    },
    {
      "cell_type": "code",
      "source": [
        "#Topologia inicial\n",
        "\n",
        "redes = []\n",
        "\n",
        "topologia =    [10,50,50,50,10]\n",
        "f_activation = ['relu','relu','relu','relu','relu']\n",
        "\n",
        "redes.append(DNANN(topologia, f_activation).get())\n",
        "\n",
        "topologia =    [10,50,50,20,10]\n",
        "f_activation = ['relu','sigmoid','relu','tanh','sigmoid']\n",
        "\n",
        "redes.append(DNANN(topologia, f_activation).get())"
      ],
      "metadata": {
        "id": "dltgkLQ94xh8"
      },
      "execution_count": null,
      "outputs": []
    },
    {
      "cell_type": "code",
      "source": [
        "\n",
        "def marca(msg):\n",
        "  def _decorator(f):\n",
        "    def _function_wrapper(x):\n",
        "      print(\"inicio\",msg)\n",
        "      return f(x)\n",
        "    return _function_wrapper\n",
        "    print(\"final\",msg)\n",
        "  return _decorator"
      ],
      "metadata": {
        "id": "bKyBco5gMY6v"
      },
      "execution_count": null,
      "outputs": []
    },
    {
      "cell_type": "code",
      "source": [
        "import random\n",
        "\n",
        "def cruzar(sol1,sol2):\n",
        "  d = np.random.randint(1, len(sol1))\n",
        "  v1 = sol1[:d]+sol2[d:]\n",
        "  v2 = sol2[:d]+sol1[d:]\n",
        "  sol1_ = \"\".join(v1)\n",
        "  sol2_ = \"\".join(v2)\n",
        "  return [sol1_,sol2_]\n",
        "\n",
        "\n",
        "@marca(\"cruzar\")\n",
        "def cruzarSols(soluciones):\n",
        "  sl = soluciones.copy()\n",
        "  for i in soluciones:\n",
        "    for j in soluciones:\n",
        "      if j!=i:\n",
        "        if random.random()<pc:\n",
        "          sl.extend(cruzar(i,j))\n",
        "  return sl"
      ],
      "metadata": {
        "id": "1M9aa1c2NNro"
      },
      "execution_count": null,
      "outputs": []
    },
    {
      "cell_type": "code",
      "source": [
        "def mutar(sol):\n",
        "  ind = random.sample(range(len(sol)), random.randint(1,len(sol)))\n",
        "  s = list(sol)\n",
        "  for i in ind:\n",
        "    s[i] = complement[s[i]]\n",
        "  return \"\".join(s)\n",
        "\n",
        "@marca(\"mutar\")\n",
        "def mutarSols(soluciones):\n",
        "  sl = soluciones.copy()\n",
        "  for i in soluciones:\n",
        "    sl.append(mutar(i))\n",
        "  return sl"
      ],
      "metadata": {
        "id": "r6VkrrCvCq1C"
      },
      "execution_count": null,
      "outputs": []
    },
    {
      "cell_type": "code",
      "source": [
        "def evaluar(soluciones):\n",
        "  sols = []\n",
        "  for i in soluciones:\n",
        "    layers = [Dense(n_in, activation='linear')]\n",
        "    for w in DNANN.from_frames(i):\n",
        "      nn,act = Frame.from_frame(w)\n",
        "      layers.append(Dense(nn,FACT[act]))\n",
        "    layers.append(Dense(n_out, activation='softmax'))\n",
        "\n",
        "    red = Sequential(layers)\n",
        "    red.compile(**config)\n",
        "\n",
        "    hist = red.fit(\n",
        "        X_train,\n",
        "        y_train,\n",
        "        verbose= False,\n",
        "        batch_size=96,\n",
        "        epochs=2000,\n",
        "        validation_split=.3,\n",
        "        callbacks=[\n",
        "        EarlyStopping(monitor=\"val_loss\",restore_best_weights=True),\n",
        "        TerminateOnNaN()\n",
        "    ] )\n",
        "\n",
        "    sols.append([i, hist.history['val_loss'][-1]])\n",
        "  return sols"
      ],
      "metadata": {
        "id": "Z4JDUFSQPqW-"
      },
      "execution_count": null,
      "outputs": []
    },
    {
      "cell_type": "code",
      "source": [
        "FE = []\n",
        "for i in range(4):\n",
        "  print('Entrenando',i)\n",
        "  redes = cruzarSols(redes)\n",
        "  redes = mutarSols(redes)\n",
        "  temp = evaluar(redes)\n",
        "  temp = sorted(temp, key=lambda x: x[1])[:5]\n",
        "  redes = [i[0] for i in temp]\n",
        "  FE.append(min([i[1] for i in temp]))\n"
      ],
      "metadata": {
        "id": "Wywd92eJD28g"
      },
      "execution_count": null,
      "outputs": []
    },
    {
      "cell_type": "code",
      "source": [
        "import matplotlib.pyplot as plt\n",
        "sns.scatterplot(x='generación',y='val_loss',data = {'generación':list(range(len(FE))),'val_loss':FE})\n",
        "sns.lineplot(x='generación',y='val_loss', color = 'gray',data = {'generación':list(range(len(FE))),'val_loss':FE})\n",
        "plt.xticks([0,1,2,3])\n",
        "plt.grid()\n",
        "plt.savefig('Grafica error por generacion.pdf')"
      ],
      "metadata": {
        "id": "6OFFbCI6khi3"
      },
      "execution_count": null,
      "outputs": []
    },
    {
      "cell_type": "code",
      "source": [
        "tmp = [Frame.from_frame(i) for i in DNANN.from_frames(temp[0][0])]\n",
        "[(i[0], FACT[i[1]]) for i in tmp], temp[0]"
      ],
      "metadata": {
        "id": "AGZ57CgnX-gS"
      },
      "execution_count": null,
      "outputs": []
    },
    {
      "cell_type": "code",
      "source": [
        "def DNANET(solucion):\n",
        "  layers = [Dense(n_in, activation='linear')]\n",
        "  for w in DNANN.from_frames(solucion):\n",
        "    nn,act = Frame.from_frame(w)\n",
        "    layers.append(Dense(nn,FACT[act]))\n",
        "  layers.append(Dense(n_out, activation='softmax'))\n",
        "\n",
        "  red = Sequential(layers)\n",
        "  red.compile(**config)\n",
        "\n",
        "  red.fit(\n",
        "      X_train,\n",
        "      y_train,\n",
        "      batch_size=96,\n",
        "      epochs=2000,\n",
        "      validation_split=.3,\n",
        "      callbacks=[\n",
        "      EarlyStopping(monitor=\"val_loss\",restore_best_weights=True),\n",
        "      TerminateOnNaN()\n",
        "  ] )\n",
        "  return red\n",
        "\n",
        "red = DNANET(temp[0][0])"
      ],
      "metadata": {
        "id": "8HWV90zvbRtB"
      },
      "execution_count": null,
      "outputs": []
    },
    {
      "cell_type": "code",
      "source": [
        "np.argmax(red.predict(X_test),axis=1)-np.argmax(y_test, axis=1)"
      ],
      "metadata": {
        "id": "U3j3Zt0RjFDg"
      },
      "execution_count": null,
      "outputs": []
    },
    {
      "cell_type": "code",
      "source": [],
      "metadata": {
        "id": "UiYMTcjtSbG1"
      },
      "execution_count": null,
      "outputs": []
    }
  ]
}